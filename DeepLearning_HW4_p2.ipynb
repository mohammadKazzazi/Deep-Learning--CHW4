{
  "cells": [
    {
      "cell_type": "markdown",
      "metadata": {
        "id": "w_a3OXnSeV0z"
      },
      "source": [
        "\n",
        "<br>\n",
        "<font>\n",
        "<div dir=ltr align=center>\n",
        "<font color=0F5298 size=10>\n",
        "    Deep Learning - HW4 <br>\n",
        "<font color=2565AE size=5>\n",
        "    Electrical Engineering Department <br>\n",
        "    winter 2024<br>\n",
        "<font color=3C99D size=5>\n",
        "    Practical Assignment 2 <br>\n",
        "<font color=696880 size=4>\n",
        "    Armin Ghojehzadeh\n",
        "\n",
        "____"
      ]
    },
    {
      "cell_type": "markdown",
      "metadata": {
        "id": "27gjgFmh6_HB"
      },
      "source": [
        "# 🔴 **Import Libs**"
      ]
    },
    {
      "cell_type": "code",
      "source": [
        "!pip uninstall -y torchtext torch\n",
        "!pip install torch==2.1.0\n",
        "!pip install torchtext==0.15.2\n",
        "!pip install torchmetrics"
      ],
      "metadata": {
        "colab": {
          "base_uri": "https://localhost:8080/",
          "height": 1000
        },
        "id": "bO397JCf7MeA",
        "outputId": "f12fd272-aea0-4920-9f10-4f228d321a1d"
      },
      "execution_count": 47,
      "outputs": [
        {
          "output_type": "stream",
          "name": "stdout",
          "text": [
            "Found existing installation: torchtext 0.15.2\n",
            "Uninstalling torchtext-0.15.2:\n",
            "  Successfully uninstalled torchtext-0.15.2\n",
            "Found existing installation: torch 2.0.1\n",
            "Uninstalling torch-2.0.1:\n",
            "  Successfully uninstalled torch-2.0.1\n",
            "Collecting torch==2.1.0\n",
            "  Using cached torch-2.1.0-cp310-cp310-manylinux1_x86_64.whl.metadata (25 kB)\n",
            "Requirement already satisfied: filelock in /usr/local/lib/python3.10/dist-packages (from torch==2.1.0) (3.16.1)\n",
            "Requirement already satisfied: typing-extensions in /usr/local/lib/python3.10/dist-packages (from torch==2.1.0) (4.12.2)\n",
            "Requirement already satisfied: sympy in /usr/local/lib/python3.10/dist-packages (from torch==2.1.0) (1.13.1)\n",
            "Requirement already satisfied: networkx in /usr/local/lib/python3.10/dist-packages (from torch==2.1.0) (3.4.2)\n",
            "Requirement already satisfied: jinja2 in /usr/local/lib/python3.10/dist-packages (from torch==2.1.0) (3.1.4)\n",
            "Requirement already satisfied: fsspec in /usr/local/lib/python3.10/dist-packages (from torch==2.1.0) (2024.10.0)\n",
            "Requirement already satisfied: nvidia-cuda-nvrtc-cu12==12.1.105 in /usr/local/lib/python3.10/dist-packages (from torch==2.1.0) (12.1.105)\n",
            "Requirement already satisfied: nvidia-cuda-runtime-cu12==12.1.105 in /usr/local/lib/python3.10/dist-packages (from torch==2.1.0) (12.1.105)\n",
            "Requirement already satisfied: nvidia-cuda-cupti-cu12==12.1.105 in /usr/local/lib/python3.10/dist-packages (from torch==2.1.0) (12.1.105)\n",
            "Requirement already satisfied: nvidia-cudnn-cu12==8.9.2.26 in /usr/local/lib/python3.10/dist-packages (from torch==2.1.0) (8.9.2.26)\n",
            "Requirement already satisfied: nvidia-cublas-cu12==12.1.3.1 in /usr/local/lib/python3.10/dist-packages (from torch==2.1.0) (12.1.3.1)\n",
            "Requirement already satisfied: nvidia-cufft-cu12==11.0.2.54 in /usr/local/lib/python3.10/dist-packages (from torch==2.1.0) (11.0.2.54)\n",
            "Requirement already satisfied: nvidia-curand-cu12==10.3.2.106 in /usr/local/lib/python3.10/dist-packages (from torch==2.1.0) (10.3.2.106)\n",
            "Requirement already satisfied: nvidia-cusolver-cu12==11.4.5.107 in /usr/local/lib/python3.10/dist-packages (from torch==2.1.0) (11.4.5.107)\n",
            "Requirement already satisfied: nvidia-cusparse-cu12==12.1.0.106 in /usr/local/lib/python3.10/dist-packages (from torch==2.1.0) (12.1.0.106)\n",
            "Requirement already satisfied: nvidia-nccl-cu12==2.18.1 in /usr/local/lib/python3.10/dist-packages (from torch==2.1.0) (2.18.1)\n",
            "Requirement already satisfied: nvidia-nvtx-cu12==12.1.105 in /usr/local/lib/python3.10/dist-packages (from torch==2.1.0) (12.1.105)\n",
            "Collecting triton==2.1.0 (from torch==2.1.0)\n",
            "  Using cached triton-2.1.0-0-cp310-cp310-manylinux2014_x86_64.manylinux_2_17_x86_64.whl.metadata (1.3 kB)\n",
            "Requirement already satisfied: nvidia-nvjitlink-cu12 in /usr/local/lib/python3.10/dist-packages (from nvidia-cusolver-cu12==11.4.5.107->torch==2.1.0) (12.6.85)\n",
            "Requirement already satisfied: MarkupSafe>=2.0 in /usr/local/lib/python3.10/dist-packages (from jinja2->torch==2.1.0) (3.0.2)\n",
            "Requirement already satisfied: mpmath<1.4,>=1.1.0 in /usr/local/lib/python3.10/dist-packages (from sympy->torch==2.1.0) (1.3.0)\n",
            "Using cached torch-2.1.0-cp310-cp310-manylinux1_x86_64.whl (670.2 MB)\n",
            "Using cached triton-2.1.0-0-cp310-cp310-manylinux2014_x86_64.manylinux_2_17_x86_64.whl (89.2 MB)\n",
            "Installing collected packages: triton, torch\n",
            "  Attempting uninstall: triton\n",
            "    Found existing installation: triton 2.0.0\n",
            "    Uninstalling triton-2.0.0:\n",
            "      Successfully uninstalled triton-2.0.0\n",
            "\u001b[31mERROR: pip's dependency resolver does not currently take into account all the packages that are installed. This behaviour is the source of the following dependency conflicts.\n",
            "torchaudio 2.5.1+cu121 requires torch==2.5.1, but you have torch 2.1.0 which is incompatible.\n",
            "torchdata 0.6.1 requires torch==2.0.1, but you have torch 2.1.0 which is incompatible.\n",
            "torchvision 0.20.1+cu121 requires torch==2.5.1, but you have torch 2.1.0 which is incompatible.\u001b[0m\u001b[31m\n",
            "\u001b[0mSuccessfully installed torch-2.1.0 triton-2.1.0\n"
          ]
        },
        {
          "output_type": "display_data",
          "data": {
            "application/vnd.colab-display-data+json": {
              "pip_warning": {
                "packages": [
                  "nvfuser",
                  "torch"
                ]
              },
              "id": "acd8d7b36df94585a9d7bb95a2dd7fdc"
            }
          },
          "metadata": {}
        },
        {
          "output_type": "stream",
          "name": "stdout",
          "text": [
            "Collecting torchtext==0.15.2\n",
            "  Using cached torchtext-0.15.2-cp310-cp310-manylinux1_x86_64.whl.metadata (7.4 kB)\n",
            "Requirement already satisfied: tqdm in /usr/local/lib/python3.10/dist-packages (from torchtext==0.15.2) (4.67.1)\n",
            "Requirement already satisfied: requests in /usr/local/lib/python3.10/dist-packages (from torchtext==0.15.2) (2.32.3)\n",
            "Collecting torch==2.0.1 (from torchtext==0.15.2)\n",
            "  Using cached torch-2.0.1-cp310-cp310-manylinux1_x86_64.whl.metadata (24 kB)\n",
            "Requirement already satisfied: numpy in /usr/local/lib/python3.10/dist-packages (from torchtext==0.15.2) (1.26.4)\n",
            "Requirement already satisfied: torchdata==0.6.1 in /usr/local/lib/python3.10/dist-packages (from torchtext==0.15.2) (0.6.1)\n",
            "Requirement already satisfied: filelock in /usr/local/lib/python3.10/dist-packages (from torch==2.0.1->torchtext==0.15.2) (3.16.1)\n",
            "Requirement already satisfied: typing-extensions in /usr/local/lib/python3.10/dist-packages (from torch==2.0.1->torchtext==0.15.2) (4.12.2)\n",
            "Requirement already satisfied: sympy in /usr/local/lib/python3.10/dist-packages (from torch==2.0.1->torchtext==0.15.2) (1.13.1)\n",
            "Requirement already satisfied: networkx in /usr/local/lib/python3.10/dist-packages (from torch==2.0.1->torchtext==0.15.2) (3.4.2)\n",
            "Requirement already satisfied: jinja2 in /usr/local/lib/python3.10/dist-packages (from torch==2.0.1->torchtext==0.15.2) (3.1.4)\n",
            "Requirement already satisfied: nvidia-cuda-nvrtc-cu11==11.7.99 in /usr/local/lib/python3.10/dist-packages (from torch==2.0.1->torchtext==0.15.2) (11.7.99)\n",
            "Requirement already satisfied: nvidia-cuda-runtime-cu11==11.7.99 in /usr/local/lib/python3.10/dist-packages (from torch==2.0.1->torchtext==0.15.2) (11.7.99)\n",
            "Requirement already satisfied: nvidia-cuda-cupti-cu11==11.7.101 in /usr/local/lib/python3.10/dist-packages (from torch==2.0.1->torchtext==0.15.2) (11.7.101)\n",
            "Requirement already satisfied: nvidia-cudnn-cu11==8.5.0.96 in /usr/local/lib/python3.10/dist-packages (from torch==2.0.1->torchtext==0.15.2) (8.5.0.96)\n",
            "Requirement already satisfied: nvidia-cublas-cu11==11.10.3.66 in /usr/local/lib/python3.10/dist-packages (from torch==2.0.1->torchtext==0.15.2) (11.10.3.66)\n",
            "Requirement already satisfied: nvidia-cufft-cu11==10.9.0.58 in /usr/local/lib/python3.10/dist-packages (from torch==2.0.1->torchtext==0.15.2) (10.9.0.58)\n",
            "Requirement already satisfied: nvidia-curand-cu11==10.2.10.91 in /usr/local/lib/python3.10/dist-packages (from torch==2.0.1->torchtext==0.15.2) (10.2.10.91)\n",
            "Requirement already satisfied: nvidia-cusolver-cu11==11.4.0.1 in /usr/local/lib/python3.10/dist-packages (from torch==2.0.1->torchtext==0.15.2) (11.4.0.1)\n",
            "Requirement already satisfied: nvidia-cusparse-cu11==11.7.4.91 in /usr/local/lib/python3.10/dist-packages (from torch==2.0.1->torchtext==0.15.2) (11.7.4.91)\n",
            "Requirement already satisfied: nvidia-nccl-cu11==2.14.3 in /usr/local/lib/python3.10/dist-packages (from torch==2.0.1->torchtext==0.15.2) (2.14.3)\n",
            "Requirement already satisfied: nvidia-nvtx-cu11==11.7.91 in /usr/local/lib/python3.10/dist-packages (from torch==2.0.1->torchtext==0.15.2) (11.7.91)\n",
            "Collecting triton==2.0.0 (from torch==2.0.1->torchtext==0.15.2)\n",
            "  Using cached triton-2.0.0-1-cp310-cp310-manylinux2014_x86_64.manylinux_2_17_x86_64.whl.metadata (1.0 kB)\n",
            "Requirement already satisfied: urllib3>=1.25 in /usr/local/lib/python3.10/dist-packages (from torchdata==0.6.1->torchtext==0.15.2) (2.2.3)\n",
            "Requirement already satisfied: setuptools in /usr/local/lib/python3.10/dist-packages (from nvidia-cublas-cu11==11.10.3.66->torch==2.0.1->torchtext==0.15.2) (75.1.0)\n",
            "Requirement already satisfied: wheel in /usr/local/lib/python3.10/dist-packages (from nvidia-cublas-cu11==11.10.3.66->torch==2.0.1->torchtext==0.15.2) (0.45.1)\n",
            "Requirement already satisfied: cmake in /usr/local/lib/python3.10/dist-packages (from triton==2.0.0->torch==2.0.1->torchtext==0.15.2) (3.31.2)\n",
            "Requirement already satisfied: lit in /usr/local/lib/python3.10/dist-packages (from triton==2.0.0->torch==2.0.1->torchtext==0.15.2) (18.1.8)\n",
            "Requirement already satisfied: charset-normalizer<4,>=2 in /usr/local/lib/python3.10/dist-packages (from requests->torchtext==0.15.2) (3.4.0)\n",
            "Requirement already satisfied: idna<4,>=2.5 in /usr/local/lib/python3.10/dist-packages (from requests->torchtext==0.15.2) (3.10)\n",
            "Requirement already satisfied: certifi>=2017.4.17 in /usr/local/lib/python3.10/dist-packages (from requests->torchtext==0.15.2) (2024.12.14)\n",
            "Requirement already satisfied: MarkupSafe>=2.0 in /usr/local/lib/python3.10/dist-packages (from jinja2->torch==2.0.1->torchtext==0.15.2) (3.0.2)\n",
            "Requirement already satisfied: mpmath<1.4,>=1.1.0 in /usr/local/lib/python3.10/dist-packages (from sympy->torch==2.0.1->torchtext==0.15.2) (1.3.0)\n",
            "Using cached torchtext-0.15.2-cp310-cp310-manylinux1_x86_64.whl (2.0 MB)\n",
            "Using cached torch-2.0.1-cp310-cp310-manylinux1_x86_64.whl (619.9 MB)\n",
            "Using cached triton-2.0.0-1-cp310-cp310-manylinux2014_x86_64.manylinux_2_17_x86_64.whl (63.3 MB)\n",
            "Installing collected packages: triton, torch, torchtext\n",
            "  Attempting uninstall: triton\n",
            "    Found existing installation: triton 2.1.0\n",
            "    Uninstalling triton-2.1.0:\n",
            "      Successfully uninstalled triton-2.1.0\n",
            "  Attempting uninstall: torch\n",
            "    Found existing installation: torch 2.1.0\n",
            "    Uninstalling torch-2.1.0:\n",
            "      Successfully uninstalled torch-2.1.0\n",
            "\u001b[31mERROR: Operation cancelled by user\u001b[0m\u001b[31m\n",
            "\u001b[0m\u001b[33mWARNING: Ignoring invalid distribution -orch (/usr/local/lib/python3.10/dist-packages)\u001b[0m\u001b[33m\n",
            "\u001b[0mRequirement already satisfied: torchmetrics in /usr/local/lib/python3.10/dist-packages (1.6.1)\n",
            "Requirement already satisfied: numpy>1.20.0 in /usr/local/lib/python3.10/dist-packages (from torchmetrics) (1.26.4)\n",
            "Requirement already satisfied: packaging>17.1 in /usr/local/lib/python3.10/dist-packages (from torchmetrics) (24.2)\n",
            "Collecting torch>=2.0.0 (from torchmetrics)\n",
            "  Downloading torch-2.5.1-cp310-cp310-manylinux1_x86_64.whl.metadata (28 kB)\n",
            "Requirement already satisfied: lightning-utilities>=0.8.0 in /usr/local/lib/python3.10/dist-packages (from torchmetrics) (0.11.9)\n",
            "Requirement already satisfied: setuptools in /usr/local/lib/python3.10/dist-packages (from lightning-utilities>=0.8.0->torchmetrics) (75.1.0)\n",
            "Requirement already satisfied: typing-extensions in /usr/local/lib/python3.10/dist-packages (from lightning-utilities>=0.8.0->torchmetrics) (4.12.2)\n",
            "Requirement already satisfied: filelock in /usr/local/lib/python3.10/dist-packages (from torch>=2.0.0->torchmetrics) (3.16.1)\n",
            "Requirement already satisfied: networkx in /usr/local/lib/python3.10/dist-packages (from torch>=2.0.0->torchmetrics) (3.4.2)\n",
            "Requirement already satisfied: jinja2 in /usr/local/lib/python3.10/dist-packages (from torch>=2.0.0->torchmetrics) (3.1.4)\n",
            "Requirement already satisfied: fsspec in /usr/local/lib/python3.10/dist-packages (from torch>=2.0.0->torchmetrics) (2024.10.0)\n",
            "Collecting nvidia-cuda-nvrtc-cu12==12.4.127 (from torch>=2.0.0->torchmetrics)\n",
            "  Downloading nvidia_cuda_nvrtc_cu12-12.4.127-py3-none-manylinux2014_x86_64.whl.metadata (1.5 kB)\n",
            "Collecting nvidia-cuda-runtime-cu12==12.4.127 (from torch>=2.0.0->torchmetrics)\n",
            "  Downloading nvidia_cuda_runtime_cu12-12.4.127-py3-none-manylinux2014_x86_64.whl.metadata (1.5 kB)\n",
            "Collecting nvidia-cuda-cupti-cu12==12.4.127 (from torch>=2.0.0->torchmetrics)\n",
            "  Downloading nvidia_cuda_cupti_cu12-12.4.127-py3-none-manylinux2014_x86_64.whl.metadata (1.6 kB)\n",
            "Collecting nvidia-cudnn-cu12==9.1.0.70 (from torch>=2.0.0->torchmetrics)\n",
            "  Downloading nvidia_cudnn_cu12-9.1.0.70-py3-none-manylinux2014_x86_64.whl.metadata (1.6 kB)\n",
            "Collecting nvidia-cublas-cu12==12.4.5.8 (from torch>=2.0.0->torchmetrics)\n",
            "  Downloading nvidia_cublas_cu12-12.4.5.8-py3-none-manylinux2014_x86_64.whl.metadata (1.5 kB)\n",
            "Collecting nvidia-cufft-cu12==11.2.1.3 (from torch>=2.0.0->torchmetrics)\n",
            "  Downloading nvidia_cufft_cu12-11.2.1.3-py3-none-manylinux2014_x86_64.whl.metadata (1.5 kB)\n",
            "Collecting nvidia-curand-cu12==10.3.5.147 (from torch>=2.0.0->torchmetrics)\n",
            "  Downloading nvidia_curand_cu12-10.3.5.147-py3-none-manylinux2014_x86_64.whl.metadata (1.5 kB)\n",
            "Collecting nvidia-cusolver-cu12==11.6.1.9 (from torch>=2.0.0->torchmetrics)\n",
            "  Downloading nvidia_cusolver_cu12-11.6.1.9-py3-none-manylinux2014_x86_64.whl.metadata (1.6 kB)\n",
            "Collecting nvidia-cusparse-cu12==12.3.1.170 (from torch>=2.0.0->torchmetrics)\n",
            "  Downloading nvidia_cusparse_cu12-12.3.1.170-py3-none-manylinux2014_x86_64.whl.metadata (1.6 kB)\n",
            "Collecting nvidia-nccl-cu12==2.21.5 (from torch>=2.0.0->torchmetrics)\n",
            "  Downloading nvidia_nccl_cu12-2.21.5-py3-none-manylinux2014_x86_64.whl.metadata (1.8 kB)\n",
            "Collecting nvidia-nvtx-cu12==12.4.127 (from torch>=2.0.0->torchmetrics)\n",
            "  Downloading nvidia_nvtx_cu12-12.4.127-py3-none-manylinux2014_x86_64.whl.metadata (1.7 kB)\n",
            "Collecting nvidia-nvjitlink-cu12==12.4.127 (from torch>=2.0.0->torchmetrics)\n",
            "  Downloading nvidia_nvjitlink_cu12-12.4.127-py3-none-manylinux2014_x86_64.whl.metadata (1.5 kB)\n",
            "Collecting triton==3.1.0 (from torch>=2.0.0->torchmetrics)\n",
            "  Downloading triton-3.1.0-cp310-cp310-manylinux_2_17_x86_64.manylinux2014_x86_64.whl.metadata (1.3 kB)\n",
            "Requirement already satisfied: sympy==1.13.1 in /usr/local/lib/python3.10/dist-packages (from torch>=2.0.0->torchmetrics) (1.13.1)\n",
            "Requirement already satisfied: mpmath<1.4,>=1.1.0 in /usr/local/lib/python3.10/dist-packages (from sympy==1.13.1->torch>=2.0.0->torchmetrics) (1.3.0)\n",
            "Requirement already satisfied: MarkupSafe>=2.0 in /usr/local/lib/python3.10/dist-packages (from jinja2->torch>=2.0.0->torchmetrics) (3.0.2)\n",
            "Downloading torch-2.5.1-cp310-cp310-manylinux1_x86_64.whl (906.4 MB)\n",
            "\u001b[2K   \u001b[91m━━━━━━━━━━━━━\u001b[0m\u001b[91m╸\u001b[0m\u001b[90m━━━━━━━━━━━━━━━━━━━━━━━━━━\u001b[0m \u001b[32m311.2/906.4 MB\u001b[0m \u001b[31m104.7 MB/s\u001b[0m eta \u001b[36m0:00:06\u001b[0m\u001b[31mERROR: Operation cancelled by user\u001b[0m\u001b[31m\n",
            "\u001b[2K   \u001b[91m━━━━━━━━━━━━━\u001b[0m\u001b[91m╸\u001b[0m\u001b[90m━━━━━━━━━━━━━━━━━━━━━━━━━━\u001b[0m \u001b[32m314.2/906.4 MB\u001b[0m \u001b[31m113.2 MB/s\u001b[0m eta \u001b[36m0:00:06\u001b[0m\n",
            "\u001b[?25h"
          ]
        }
      ]
    },
    {
      "cell_type": "code",
      "execution_count": 48,
      "metadata": {
        "id": "vhlVJEkJeTsV"
      },
      "outputs": [],
      "source": [
        "import numpy as np\n",
        "import matplotlib.pyplot as plt\n",
        "\n",
        "import torchtext\n",
        "\n",
        "import torch\n",
        "from torch import nn\n",
        "from torch.utils.data import DataLoader, Dataset\n",
        "\n",
        "from torch import optim\n",
        "from torch.nn import functional as F\n",
        "\n",
        "import tqdm\n",
        "import torchmetrics as tm"
      ]
    },
    {
      "cell_type": "code",
      "execution_count": 49,
      "metadata": {
        "id": "DEzYlyeqTZqQ",
        "colab": {
          "base_uri": "https://localhost:8080/"
        },
        "outputId": "8ab6e3ca-581d-4198-bdca-797861b709e7"
      },
      "outputs": [
        {
          "output_type": "stream",
          "name": "stdout",
          "text": [
            "Python 3.10.12\n",
            "2.0.1+cu117\n",
            "0.15.2+cpu\n"
          ]
        }
      ],
      "source": [
        "!python --version\n",
        "print(torch.__version__)\n",
        "print(torchtext.__version__)"
      ]
    },
    {
      "cell_type": "code",
      "execution_count": 50,
      "metadata": {
        "id": "6DWjGTq6T8Jg",
        "colab": {
          "base_uri": "https://localhost:8080/"
        },
        "outputId": "615d78c7-6d9c-4e5e-e070-edb87aadb252"
      },
      "outputs": [
        {
          "output_type": "stream",
          "name": "stdout",
          "text": [
            "numpy --> 1.26.4\n",
            "torch --> 2.0.1+cu117\n",
            "torchtext --> 0.15.2+cpu\n",
            "tqdm --> 4.67.1\n"
          ]
        }
      ],
      "source": [
        "for lib in [np, torch, torchtext, tqdm]:\n",
        "  print(lib.__name__, '-->', lib.__version__)"
      ]
    },
    {
      "cell_type": "markdown",
      "metadata": {
        "id": "RwaY_YcgRayy"
      },
      "source": [
        "# 🔴 **Utils**"
      ]
    },
    {
      "cell_type": "code",
      "execution_count": 51,
      "metadata": {
        "id": "8yMS7bbmRayz"
      },
      "outputs": [],
      "source": [
        "class AverageMeter(object):\n",
        "    \"\"\"Computes and stores the average and current value\"\"\"\n",
        "    def __init__(self):\n",
        "        self.reset()\n",
        "\n",
        "    def reset(self):\n",
        "        self.val = 0\n",
        "        self.avg = 0\n",
        "        self.sum = 0\n",
        "        self.count = 0\n",
        "\n",
        "    def update(self, val, n=1):\n",
        "        self.val = val\n",
        "        self.sum += val * n\n",
        "        self.count += n\n",
        "        self.avg = self.sum / self.count"
      ]
    },
    {
      "cell_type": "code",
      "execution_count": 52,
      "metadata": {
        "id": "PpKbTUEIRayz"
      },
      "outputs": [],
      "source": [
        "def num_trainable_params(model):\n",
        "  nums = sum(p.numel() for p in model.parameters() if p.requires_grad)/1e6\n",
        "  return nums"
      ]
    },
    {
      "cell_type": "markdown",
      "metadata": {
        "id": "RTql4Ftiunfr"
      },
      "source": [
        "# 🔴 **Dataset**"
      ]
    },
    {
      "cell_type": "markdown",
      "metadata": {
        "id": "ujIVtjsYvxOI"
      },
      "source": [
        "## 🟠 **Load the Dataset**"
      ]
    },
    {
      "cell_type": "markdown",
      "metadata": {
        "id": "Ek9DpCNCChzF"
      },
      "source": [
        "🔰 In this session you should load WikiText2 dataset."
      ]
    },
    {
      "cell_type": "code",
      "execution_count": 53,
      "metadata": {
        "id": "ShYpXvVzVmP6",
        "colab": {
          "base_uri": "https://localhost:8080/"
        },
        "outputId": "36694254-2fd0-4903-c474-60ad37086764"
      },
      "outputs": [
        {
          "output_type": "stream",
          "name": "stdout",
          "text": [
            "Mounting Google Drive...\n",
            "Drive already mounted at /content/drive; to attempt to forcibly remount, call drive.mount(\"/content/drive\", force_remount=True).\n",
            "\n",
            "Extracting dataset...\n",
            "Dataset extracted to: /content/wikitext2v1\n",
            "\n",
            "Verifying dataset files...\n",
            "Train file: wikitext2v1/wikitext-2/wiki.train.tokens\n",
            "Validation file: wikitext2v1/wikitext-2/wiki.valid.tokens\n",
            "Test file: wikitext2v1/wikitext-2/wiki.test.tokens\n",
            "\n",
            "All files are successfully located!\n"
          ]
        }
      ],
      "source": [
        "# Import necessary libraries\n",
        "import os\n",
        "import zipfile\n",
        "from google.colab import drive\n",
        "\n",
        "# Mount Google Drive (optional if dataset is stored there)\n",
        "print(\"Mounting Google Drive...\")\n",
        "drive.mount('/content/drive')\n",
        "\n",
        "# Define paths\n",
        "zip_path = \"wikitext2v1.zip\"  # Update this path if your file is in Google Drive\n",
        "extract_path = \"wikitext2v1\"\n",
        "\n",
        "# Check if dataset is already uploaded\n",
        "if not os.path.exists(zip_path):\n",
        "    print(\"\\nPlease upload 'wikitext2v1.zip' to your Colab environment or Google Drive.\")\n",
        "else:\n",
        "    # Extract the dataset\n",
        "    print(\"\\nExtracting dataset...\")\n",
        "    with zipfile.ZipFile(zip_path, 'r') as zip_ref:\n",
        "        zip_ref.extractall(extract_path)\n",
        "    print(f\"Dataset extracted to: {os.path.abspath(extract_path)}\")\n",
        "\n",
        "    # Define file paths for train, validation, and test sets\n",
        "    train_file = os.path.join(extract_path, \"wikitext-2/wiki.train.tokens\")\n",
        "    valid_file = os.path.join(extract_path, \"wikitext-2/wiki.valid.tokens\")\n",
        "    test_file = os.path.join(extract_path, \"wikitext-2/wiki.test.tokens\")\n",
        "\n",
        "    # Verify dataset files\n",
        "    print(\"\\nVerifying dataset files...\")\n",
        "    if os.path.exists(train_file) and os.path.exists(valid_file) and os.path.exists(test_file):\n",
        "        print(f\"Train file: {train_file}\")\n",
        "        print(f\"Validation file: {valid_file}\")\n",
        "        print(f\"Test file: {test_file}\")\n",
        "        print(\"\\nAll files are successfully located!\")\n",
        "    else:\n",
        "        print(\"\\nError: One or more files are missing. Please check your dataset structure.\")\n"
      ]
    },
    {
      "cell_type": "markdown",
      "metadata": {
        "id": "wCi-ofSLCzop"
      },
      "source": [
        "## 🟠 **Build vocabulary and save it**"
      ]
    },
    {
      "cell_type": "markdown",
      "metadata": {
        "id": "L02PHFuyNRb3"
      },
      "source": [
        "🔰 In this section we need to:\n",
        "\n",
        "*   Define a tokenizer using `basic_english`\n",
        "*   Tokenize the dataset and collect tokens\n",
        "*   Build the vocabulary using `build_vocab_from_iterator`\n",
        "*   Manually insert special tokens and set the default index\n"
      ]
    },
    {
      "cell_type": "code",
      "execution_count": 54,
      "metadata": {
        "id": "dlJ6Q6xCVuf0",
        "colab": {
          "base_uri": "https://localhost:8080/"
        },
        "outputId": "5bc15f28-365a-4e7e-bfec-1a40006a38e9"
      },
      "outputs": [
        {
          "output_type": "stream",
          "name": "stdout",
          "text": [
            "\n",
            "Defining tokenizer...\n",
            "\n",
            "Building vocabulary...\n",
            "\n",
            "Tokenizing dataset: wikitext2v1/wikitext-2/wiki.train.tokens...\n",
            "\n",
            "Manually adding special tokens...\n",
            "Vocabulary size: 28785\n",
            "Special tokens added: <unk>, <pad>, <bos>, <eos>\n",
            "Sample tokens: ['<unk>', '<pad>', '<bos>', '<eos>', 'the', ',', '.', 'of', 'and', 'in']\n"
          ]
        }
      ],
      "source": [
        "\n",
        "# Define tokenizer and process the dataset\n",
        "import torch\n",
        "from torchtext.data.utils import get_tokenizer\n",
        "from torchtext.vocab import build_vocab_from_iterator\n",
        "\n",
        "# Initialize tokenizer\n",
        "print(\"\\nDefining tokenizer...\")\n",
        "tokenizer = get_tokenizer('basic_english')\n",
        "\n",
        "# Function to tokenize lines and yield tokens\n",
        "def yield_tokens(file_path):\n",
        "    print(f\"\\nTokenizing dataset: {file_path}...\")\n",
        "    with open(file_path, 'r') as f:\n",
        "        for line in f:\n",
        "            yield tokenizer(line.strip())\n",
        "\n",
        "# Build vocabulary from tokens\n",
        "print(\"\\nBuilding vocabulary...\")\n",
        "vocab = build_vocab_from_iterator(yield_tokens(train_file), specials=[\"<unk>\", \"<pad>\", \"<bos>\", \"<eos>\"])\n",
        "vocab.set_default_index(vocab[\"<unk>\"])\n",
        "\n",
        "# Manually insert special tokens\n",
        "print(\"\\nManually adding special tokens...\")\n",
        "print(f\"Vocabulary size: {len(vocab)}\")\n",
        "print(\"Special tokens added: <unk>, <pad>, <bos>, <eos>\")\n",
        "\n",
        "# Verify vocabulary\n",
        "print(f\"Sample tokens: {list(vocab.get_itos()[:10])}\")\n"
      ]
    },
    {
      "cell_type": "markdown",
      "metadata": {
        "id": "B29jrEvwRqXA"
      },
      "source": [
        "## 🟠 EDA"
      ]
    },
    {
      "cell_type": "markdown",
      "metadata": {
        "id": "pHtoYxEPd3bL"
      },
      "source": [
        "### 🟡 Let's explore the WikiText2 dataset!"
      ]
    },
    {
      "cell_type": "markdown",
      "metadata": {
        "id": "A3rnR739GbYb"
      },
      "source": [
        "### 🟡 Calculate basic statistics such as the number of documents, total words, average document length, etc."
      ]
    },
    {
      "cell_type": "code",
      "execution_count": 55,
      "metadata": {
        "id": "jHVKeKwk2WaG",
        "colab": {
          "base_uri": "https://localhost:8080/"
        },
        "outputId": "712b9a3f-41d4-4a80-9a2d-187dc5feaf1e"
      },
      "outputs": [
        {
          "output_type": "stream",
          "name": "stdout",
          "text": [
            "\n",
            "Training Set Statistics:\n",
            "  Number of Lines: 23767\n",
            "  Total Words: 2049990\n",
            "  Average Document Length: 86.25\n",
            "\n",
            "Validation Set Statistics:\n",
            "  Number of Lines: 2461\n",
            "  Total Words: 214417\n",
            "  Average Document Length: 87.13\n",
            "\n",
            "Test Set Statistics:\n",
            "  Number of Lines: 2891\n",
            "  Total Words: 241859\n",
            "  Average Document Length: 83.66\n"
          ]
        }
      ],
      "source": [
        "from collections import Counter\n",
        "\n",
        "def basic_stats(file_path):\n",
        "    stats = {\n",
        "        \"num_lines\": 0,\n",
        "        \"total_words\": 0,\n",
        "        \"word_counter\": Counter()\n",
        "    }\n",
        "\n",
        "    with open(file_path, encoding=\"utf-8\") as f:\n",
        "        for line in f:\n",
        "            if line.strip():\n",
        "                tokens = tokenizer(line)\n",
        "                stats[\"total_words\"] += len(tokens)\n",
        "                stats[\"word_counter\"].update(tokens)\n",
        "                stats[\"num_lines\"] += 1\n",
        "\n",
        "    stats[\"avg_doc_length\"] = stats[\"total_words\"] / stats[\"num_lines\"] if stats[\"num_lines\"] > 0 else 0\n",
        "    return stats\n",
        "\n",
        "# Calculate statistics for each dataset\n",
        "def print_stats(name, file_path):\n",
        "    stats = basic_stats(file_path)\n",
        "    print(f\"\\n{name} Set Statistics:\")\n",
        "    print(f\"  Number of Lines: {stats['num_lines']}\")\n",
        "    print(f\"  Total Words: {stats['total_words']}\")\n",
        "    print(f\"  Average Document Length: {stats['avg_doc_length']:.2f}\")\n",
        "\n",
        "print_stats(\"Training\", train_file)\n",
        "print_stats(\"Validation\", valid_file)\n",
        "print_stats(\"Test\", test_file)\n"
      ]
    },
    {
      "cell_type": "markdown",
      "metadata": {
        "id": "a4HyLPqcsF43"
      },
      "source": [
        "### 🟡 Analyze the most common and least common words in the dataset."
      ]
    },
    {
      "cell_type": "code",
      "execution_count": 56,
      "metadata": {
        "id": "cBnEjagdTN8n",
        "colab": {
          "base_uri": "https://localhost:8080/"
        },
        "outputId": "8fd58d99-37c0-4086-c034-d03ccc69bdbc"
      },
      "outputs": [
        {
          "output_type": "stream",
          "name": "stdout",
          "text": [
            "\n",
            "Analyzing common words in the Training set:\n",
            "  Most Common Words: [('the', 130768), (',', 102615), ('.', 83397), ('of', 57030), ('<unk>', 54625), ('and', 50735), ('in', 45015), ('to', 39521), ('a', 36523), ('=', 29570)]\n",
            "  Least Common Words: [('philipp', 3), ('prefaced', 3), ('kreutzer', 3), ('forrester', 3), ('zoromski', 3), ('roundabouts', 3), ('tuscola', 3), ('northeasterly', 3), ('intergrades', 3), ('gallinae', 3)]\n",
            "\n",
            "Analyzing common words in the Validation set:\n",
            "  Most Common Words: [('the', 14717), ('<unk>', 11718), (',', 10470), ('.', 8829), ('of', 5926), ('and', 5345), ('in', 4755), ('to', 4160), ('a', 3648), ('=', 2924)]\n",
            "  Least Common Words: [('mummy', 1), ('cynical', 1), ('naive', 1), ('honest', 1), ('spends', 1), ('aerobics', 1), ('kenya', 1), ('pride', 1), ('upbringing', 1), ('hamlet', 1)]\n",
            "\n",
            "Analyzing common words in the Test set:\n",
            "  Most Common Words: [('the', 16080), ('<unk>', 15218), (',', 11502), ('.', 9977), ('of', 6787), ('and', 5882), ('in', 5078), ('to', 4781), ('a', 4076), ('=', 3483)]\n",
            "  Least Common Words: [('ballad', 1), ('echoing', 1), ('cinematography', 1), ('lavishly', 1), ('oscar', 1), ('culturally', 1), ('genres', 1), ('polling', 1), ('credibility', 1), ('ronnie', 1)]\n"
          ]
        }
      ],
      "source": [
        "def analyze_common_words(file_path, n=10):\n",
        "    stats = basic_stats(file_path)\n",
        "    most_common = stats[\"word_counter\"].most_common(n)\n",
        "    least_common = stats[\"word_counter\"].most_common()[-n:]\n",
        "    return {\n",
        "        \"most_common\": most_common,\n",
        "        \"least_common\": least_common\n",
        "    }\n",
        "\n",
        "# Display most and least common words for each dataset\n",
        "for name, file in zip([\"Training\", \"Validation\", \"Test\"], [train_file, valid_file, test_file]):\n",
        "    print(f\"\\nAnalyzing common words in the {name} set:\")\n",
        "    common_words = analyze_common_words(file)\n",
        "    print(f\"  Most Common Words: {common_words['most_common']}\")\n",
        "    print(f\"  Least Common Words: {common_words['least_common']}\")\n"
      ]
    },
    {
      "cell_type": "markdown",
      "metadata": {
        "id": "cfBasjQCE_aI"
      },
      "source": [
        "### 🟡  Please proceed with further exploration of the dataset. what do you suggest?"
      ]
    },
    {
      "cell_type": "markdown",
      "source": [
        "As it can be guessed, analyzing the distribution of word lengths across the dataset can be an excellent choice since we can gain a good perspective on whether the dataset includes any very short or extended sentences.\n",
        "\n",
        "As it is appear, we can see that the distribution of the word lengths are relatively Gaussian with the mean of 7.5."
      ],
      "metadata": {
        "id": "8HEvinokE4K3"
      }
    },
    {
      "cell_type": "code",
      "execution_count": 57,
      "metadata": {
        "id": "yR8uQsv4E_aJ",
        "colab": {
          "base_uri": "https://localhost:8080/",
          "height": 1000
        },
        "outputId": "6343e7f7-2bfa-4ced-b597-55b657577146"
      },
      "outputs": [
        {
          "output_type": "display_data",
          "data": {
            "text/plain": [
              "<Figure size 1000x600 with 1 Axes>"
            ],
            "image/png": "[encoded data removed]"
          },
          "metadata": {}
        },
        {
          "output_type": "display_data",
          "data": {
            "text/plain": [
              "<Figure size 1000x600 with 1 Axes>"
            ],
            "image/png": "[encoded data removed]"
          },
          "metadata": {}
        },
        {
          "output_type": "display_data",
          "data": {
            "text/plain": [
              "<Figure size 1000x600 with 1 Axes>"
            ],
            "image/png": "[encoded data removed]"
          },
          "metadata": {}
        }
      ],
      "source": [
        "# Plot word length distribution\n",
        "def plot_word_lengths(file_path, dataset_name):\n",
        "    \"\"\"\n",
        "    Plot the distribution of word lengths in the dataset.\n",
        "    Args:\n",
        "        file_path (str): Path to the dataset file.\n",
        "        dataset_name (str): Name of the dataset (e.g., \"Training\").\n",
        "    \"\"\"\n",
        "    stats = basic_stats(file_path)\n",
        "    word_lengths = [len(word) for word in stats[\"word_counter\"]]\n",
        "    plt.figure(figsize=(10, 6))\n",
        "    plt.hist(word_lengths, bins=range(1, max(word_lengths)+1), edgecolor=\"black\", alpha=0.7)\n",
        "    plt.title(f\"Word Length Distribution in {dataset_name} Set\")\n",
        "    plt.xlabel(\"Word Length\")\n",
        "    plt.ylabel(\"Frequency\")\n",
        "    plt.grid(axis=\"y\", linestyle=\"--\", alpha=0.7)\n",
        "    plt.show()\n",
        "\n",
        "# Plot for each dataset\n",
        "plot_word_lengths(train_file, \"Training\")\n",
        "plot_word_lengths(valid_file, \"Validation\")\n",
        "plot_word_lengths(test_file, \"Test\")\n"
      ]
    },
    {
      "cell_type": "markdown",
      "metadata": {
        "id": "idRexFij4wgN"
      },
      "source": [
        "## 🟠 Transform the data"
      ]
    },
    {
      "cell_type": "markdown",
      "metadata": {
        "id": "2VjvBOtvHu2v"
      },
      "source": [
        "🛑 Make sure to perform the transformations on train, validation and test datasets."
      ]
    },
    {
      "cell_type": "markdown",
      "metadata": {
        "id": "ApisIcGeGSsJ"
      },
      "source": [
        "🔰 Reshape the dataset into an `N x B x L` or `M x L` format, where `N` represents the number of batches, `B` is the batch size, `L` is the length of a sample within each batch, and `M` is equal to `N x B`."
      ]
    },
    {
      "cell_type": "code",
      "execution_count": 58,
      "metadata": {
        "id": "ocxM8YdsWH-1"
      },
      "outputs": [],
      "source": [
        "def data_process(raw_text_iter, batch_size, seq_len):\n",
        "    \"\"\"\n",
        "    Prepare the raw text data into batches of sequences with targets.\n",
        "    Args:\n",
        "        raw_text_iter (iterable): Iterator over raw text lines.\n",
        "        batch_size (int): Number of sequences per batch.\n",
        "        seq_len (int): Length of each sequence.\n",
        "\n",
        "    Returns:\n",
        "        tuple: Tensors for inputs and targets.\n",
        "    \"\"\"\n",
        "    token_list = []\n",
        "    for text_line in raw_text_iter:\n",
        "        token_list.extend([vocab[\"<bos>\"]] + vocab(tokenizer(text_line)) + [vocab[\"<eos>\"]])\n",
        "\n",
        "    total_elements = len(token_list) - 1  # Exclude last token for alignment\n",
        "    usable_elements = (total_elements // (batch_size * seq_len)) * (batch_size * seq_len)\n",
        "    token_list = token_list[:usable_elements + 1]  # Include alignment token\n",
        "\n",
        "    tokens_tensor = torch.tensor(token_list, dtype=torch.long)\n",
        "    inputs_tensor = tokens_tensor[:-1].view(batch_size, -1)\n",
        "    targets_tensor = tokens_tensor[1:].view(batch_size, -1)\n",
        "\n",
        "    # Split into sequences\n",
        "    inputs = inputs_tensor.unfold(1, seq_len, seq_len).contiguous().view(-1, seq_len)\n",
        "    targets = targets_tensor.unfold(1, seq_len, seq_len).contiguous().view(-1, seq_len)\n",
        "\n",
        "    return inputs, targets\n"
      ]
    },
    {
      "cell_type": "code",
      "execution_count": 59,
      "metadata": {
        "id": "4GndG2B0WPIb",
        "colab": {
          "base_uri": "https://localhost:8080/"
        },
        "outputId": "a5ab2bb9-d19b-416c-90e8-01aaf44a3ccb"
      },
      "outputs": [
        {
          "output_type": "stream",
          "name": "stdout",
          "text": [
            "\n",
            "Processing datasets...\n",
            "Train Inputs Shape: torch.Size([42464, 50])\n",
            "Train Targets Shape: torch.Size([42464, 50])\n",
            "Validation Inputs Shape: torch.Size([4416, 50])\n",
            "Validation Targets Shape: torch.Size([4416, 50])\n",
            "Test Inputs Shape: torch.Size([4992, 50])\n",
            "Test Targets Shape: torch.Size([4992, 50])\n"
          ]
        }
      ],
      "source": [
        "# Process train, validation, and test datasets\n",
        "train_iter = open(train_file, 'r')\n",
        "valid_iter = open(valid_file, 'r')\n",
        "test_iter = open(test_file, 'r')\n",
        "\n",
        "batch_size = 32\n",
        "seq_len = 50\n",
        "\n",
        "print(\"\\nProcessing datasets...\")\n",
        "train_inputs, train_targets = data_process(train_iter, batch_size, seq_len)\n",
        "valid_inputs, valid_targets = data_process(valid_iter, batch_size, seq_len)\n",
        "test_inputs, test_targets = data_process(test_iter, batch_size, seq_len)\n",
        "\n",
        "print(f\"Train Inputs Shape: {train_inputs.size()}\")\n",
        "print(f\"Train Targets Shape: {train_targets.size()}\")\n",
        "print(f\"Validation Inputs Shape: {valid_inputs.size()}\")\n",
        "print(f\"Validation Targets Shape: {valid_targets.size()}\")\n",
        "print(f\"Test Inputs Shape: {test_inputs.size()}\")\n",
        "print(f\"Test Targets Shape: {test_targets.size()}\")\n"
      ]
    },
    {
      "cell_type": "markdown",
      "metadata": {
        "id": "PgLgP04P4-aX"
      },
      "source": [
        "## 🟠 Custom dataset"
      ]
    },
    {
      "cell_type": "markdown",
      "metadata": {
        "id": "XkxH_IR2PBNq"
      },
      "source": [
        "🔰 Write a custom dataset class for LanguageModelDataset."
      ]
    },
    {
      "cell_type": "code",
      "execution_count": 60,
      "metadata": {
        "id": "1cjpSkrtexap"
      },
      "outputs": [],
      "source": [
        "class LanguageModelDataset(Dataset):\n",
        "    def __init__(self, inputs, targets):\n",
        "        self.inputs = inputs\n",
        "        self.targets = targets\n",
        "\n",
        "    def __len__(self):\n",
        "        return len(self.inputs)\n",
        "\n",
        "    def __getitem__(self, idx):\n",
        "        return self.inputs[idx], self.targets[idx]"
      ]
    },
    {
      "cell_type": "code",
      "execution_count": 61,
      "metadata": {
        "id": "o0qUkL0CfQmr"
      },
      "outputs": [],
      "source": [
        "train_dataset = LanguageModelDataset(train_inputs, train_targets)\n",
        "valid_dataset = LanguageModelDataset(valid_inputs, valid_targets)\n",
        "test_dataset = LanguageModelDataset(test_inputs, test_targets)"
      ]
    },
    {
      "cell_type": "markdown",
      "metadata": {
        "id": "NCQjacybOfqV"
      },
      "source": [
        "## 🟠 Define a dataloader if needed"
      ]
    },
    {
      "cell_type": "markdown",
      "metadata": {
        "id": "HqKMEyFNS-1a"
      },
      "source": [
        "🔰 Write dataloaders for the training, validation, and test sets."
      ]
    },
    {
      "cell_type": "code",
      "execution_count": 62,
      "metadata": {
        "id": "KMCJ3UMD0U_f",
        "colab": {
          "base_uri": "https://localhost:8080/"
        },
        "outputId": "1e5018d0-854b-4bbe-d9e3-3261565aadfa"
      },
      "outputs": [
        {
          "output_type": "stream",
          "name": "stdout",
          "text": [
            "Dataloaders created.\n"
          ]
        }
      ],
      "source": [
        "train_loader = DataLoader(train_dataset, batch_size=32, shuffle=True)\n",
        "valid_loader = DataLoader(valid_dataset, batch_size=32)\n",
        "test_loader = DataLoader(test_dataset, batch_size=32)\n",
        "\n",
        "print(\"Dataloaders created.\")"
      ]
    },
    {
      "cell_type": "markdown",
      "metadata": {
        "id": "3ttl0AK3Hvyh"
      },
      "source": [
        "# 🔴 **Model**"
      ]
    },
    {
      "cell_type": "markdown",
      "metadata": {
        "id": "06p-oBowTf-R"
      },
      "source": [
        "🔰 Use the following template to create a custom model.\n",
        "\n",
        "Your model should consist of three parts:\n",
        "\n",
        "*   an embedding layer\n",
        "*   an LSTM layer\n",
        "*   a fully connected layer"
      ]
    },
    {
      "cell_type": "code",
      "execution_count": 63,
      "metadata": {
        "id": "ISnnHE0BMVqp"
      },
      "outputs": [],
      "source": [
        "class LanguageModel(nn.Module):\n",
        "    def __init__(self, vocab_size, embedding_dim, hidden_dim, num_layers, dropout_rate):\n",
        "        super(LanguageModel, self).__init__()\n",
        "        self.embedding = nn.Embedding(vocab_size, embedding_dim)\n",
        "        self.lstm = nn.LSTM(embedding_dim, hidden_dim, num_layers, dropout=dropout_rate, batch_first=True)\n",
        "        self.fc = nn.Linear(hidden_dim, vocab_size)\n",
        "\n",
        "    def forward(self, src):\n",
        "        embedded = self.embedding(src)\n",
        "        lstm_out, _ = self.lstm(embedded)\n",
        "        output = self.fc(lstm_out)\n",
        "        return output"
      ]
    },
    {
      "cell_type": "markdown",
      "metadata": {
        "id": "24qT-sgUO2-d"
      },
      "source": [
        "# 🔴 **Config**"
      ]
    },
    {
      "cell_type": "code",
      "execution_count": 64,
      "metadata": {
        "id": "Ma28M5Z36gsq",
        "colab": {
          "base_uri": "https://localhost:8080/",
          "height": 35
        },
        "outputId": "0095bcb7-9d28-4209-e929-d62dab7d59c3"
      },
      "outputs": [
        {
          "output_type": "execute_result",
          "data": {
            "text/plain": [
              "'cuda'"
            ],
            "application/vnd.google.colaboratory.intrinsic+json": {
              "type": "string"
            }
          },
          "metadata": {},
          "execution_count": 64
        }
      ],
      "source": [
        "device = 'cuda' if torch.cuda.is_available() else 'cpu'\n",
        "device"
      ]
    },
    {
      "cell_type": "markdown",
      "metadata": {
        "id": "bwYDJKjuduUT"
      },
      "source": [
        "🔰 Define the optimizer, loss function, metrics and other necessary parameters in this section, and ensure the model is sent to the appropriate device."
      ]
    },
    {
      "cell_type": "code",
      "execution_count": 65,
      "metadata": {
        "id": "9ubk3xKaIG6i",
        "colab": {
          "base_uri": "https://localhost:8080/"
        },
        "outputId": "fa07b75a-4a70-41a0-ab83-7177d2051d9c"
      },
      "outputs": [
        {
          "output_type": "stream",
          "name": "stdout",
          "text": [
            "\n",
            "Configuration:\n",
            "  Device: cuda\n",
            "  Embedding Dimension: 128\n",
            "  Hidden Dimension: 256\n",
            "  Number of Layers: 2\n",
            "  Dropout Rate: 0.5\n",
            "  Learning Rate: 0.001\n",
            "  Number of Epochs: 10\n",
            "  Loss Function: CrossEntropyLoss()\n",
            "  Optimizer: Adam (\n",
            "Parameter Group 0\n",
            "    amsgrad: False\n",
            "    betas: (0.9, 0.999)\n",
            "    capturable: False\n",
            "    differentiable: False\n",
            "    eps: 1e-08\n",
            "    foreach: None\n",
            "    fused: None\n",
            "    lr: 0.001\n",
            "    maximize: False\n",
            "    weight_decay: 0\n",
            ")\n",
            "\n",
            "Model initialized:\n",
            "LanguageModel(\n",
            "  (embedding): Embedding(28785, 128)\n",
            "  (lstm): LSTM(128, 256, num_layers=2, batch_first=True, dropout=0.5)\n",
            "  (fc): Linear(in_features=256, out_features=28785, bias=True)\n",
            ")\n"
          ]
        }
      ],
      "source": [
        "# Config Section\n",
        "embedding_dim = 128\n",
        "hidden_dim = 256\n",
        "num_layers = 2\n",
        "dropout_rate = 0.5\n",
        "learning_rate = 0.001\n",
        "num_epochs = 10\n",
        "\n",
        "# Initialize model\n",
        "model = LanguageModel(\n",
        "    vocab_size=len(vocab),\n",
        "    embedding_dim=embedding_dim,\n",
        "    hidden_dim=hidden_dim,\n",
        "    num_layers=num_layers,\n",
        "    dropout_rate=dropout_rate\n",
        ").to(device)\n",
        "\n",
        "# Define loss function and optimizer\n",
        "criterion = nn.CrossEntropyLoss()\n",
        "optimizer = optim.Adam(model.parameters(), lr=learning_rate)\n",
        "\n",
        "# Print configuration\n",
        "def print_config():\n",
        "    print(\"\\nConfiguration:\")\n",
        "    print(f\"  Device: {device}\")\n",
        "    print(f\"  Embedding Dimension: {embedding_dim}\")\n",
        "    print(f\"  Hidden Dimension: {hidden_dim}\")\n",
        "    print(f\"  Number of Layers: {num_layers}\")\n",
        "    print(f\"  Dropout Rate: {dropout_rate}\")\n",
        "    print(f\"  Learning Rate: {learning_rate}\")\n",
        "    print(f\"  Number of Epochs: {num_epochs}\")\n",
        "    print(f\"  Loss Function: {criterion}\")\n",
        "    print(f\"  Optimizer: {optimizer}\")\n",
        "\n",
        "print_config()\n",
        "\n",
        "# Test model initialization\n",
        "print(\"\\nModel initialized:\")\n",
        "print(model)\n"
      ]
    },
    {
      "cell_type": "markdown",
      "metadata": {
        "id": "W0QNbC0YPCKZ"
      },
      "source": [
        "# 🔴 **Train ➰**"
      ]
    },
    {
      "cell_type": "markdown",
      "metadata": {
        "id": "yS6EF4HUhi5e"
      },
      "source": [
        "🔰 This is the template for train function, change it if needed."
      ]
    },
    {
      "cell_type": "code",
      "execution_count": 66,
      "metadata": {
        "id": "WniOAgk0QyRI"
      },
      "outputs": [],
      "source": [
        "def train_one_epoch(model, dataloader, loss_function, optimizer, accuracy_metric, epoch_num=None):\n",
        "    model.train()\n",
        "    total_loss = AverageMeter()\n",
        "    accuracy_metric.reset()\n",
        "\n",
        "    with tqdm.tqdm(dataloader, unit=\"batch\") as progress_bar:\n",
        "        for batch_inputs, batch_targets in progress_bar:\n",
        "            if epoch_num:\n",
        "                progress_bar.set_description(f\"Training Epoch {epoch_num}\")\n",
        "\n",
        "            # Move inputs and targets to device\n",
        "            inputs_on_device = batch_inputs.to(device)\n",
        "            targets_on_device = batch_targets.to(device)\n",
        "\n",
        "            # Model predictions\n",
        "            predictions = model(inputs_on_device)\n",
        "\n",
        "            # Adjust shapes for loss calculation\n",
        "            predictions_reshaped = predictions.reshape(-1, len(vocab))\n",
        "            targets_flattened = targets_on_device.flatten()\n",
        "\n",
        "            # Calculate loss\n",
        "            calculated_loss = loss_function(predictions_reshaped, targets_flattened)\n",
        "\n",
        "            # Perform backpropagation and optimization\n",
        "            calculated_loss.backward()\n",
        "            optimizer.step()\n",
        "            optimizer.zero_grad()\n",
        "\n",
        "            # Update tracking variables\n",
        "            total_loss.update(calculated_loss.item(), n=targets_flattened.size(0))\n",
        "            accuracy_metric.update(predictions_reshaped.softmax(dim=-1), targets_flattened)\n",
        "\n",
        "            # Update progress bar\n",
        "            progress_bar.set_postfix(avg_loss=total_loss.avg, accuracy=accuracy_metric.compute().item())\n",
        "\n",
        "    return model, total_loss.avg, accuracy_metric.compute().item()\n"
      ]
    },
    {
      "cell_type": "markdown",
      "metadata": {
        "id": "G9HgVWslPGsH"
      },
      "source": [
        "# 🔴 **Evaluation**"
      ]
    },
    {
      "cell_type": "markdown",
      "metadata": {
        "id": "TsszJ7GVj2l3"
      },
      "source": [
        "🔰 This is the template for evaluation function, change it if needed."
      ]
    },
    {
      "cell_type": "code",
      "execution_count": 67,
      "metadata": {
        "id": "uV0_67_ZQ0xf"
      },
      "outputs": [],
      "source": [
        "def evaluate(model, test_loader, loss_fn, metric):\n",
        "    model.eval()\n",
        "    loss_eval = AverageMeter()\n",
        "    metric.reset()\n",
        "\n",
        "    with torch.inference_mode():\n",
        "        for inputs, targets in test_loader:\n",
        "            # Move data to device\n",
        "            inputs = inputs.to(device)\n",
        "            targets = targets.to(device)\n",
        "\n",
        "            # Forward pass\n",
        "            outputs = model(inputs)\n",
        "\n",
        "            # Reshape outputs and targets for loss calculation\n",
        "            outputs = outputs.view(-1, outputs.size(-1))  # Reshape to (batch_size * seq_len, vocab_size)\n",
        "            targets = targets.view(-1)  # Reshape to (batch_size * seq_len)\n",
        "\n",
        "            # Compute loss\n",
        "            loss = loss_fn(outputs, targets)\n",
        "\n",
        "            # Update loss and metric\n",
        "            loss_eval.update(loss.item(), n=len(targets))\n",
        "            metric(outputs, targets)  # Assuming metric expects the reshaped outputs\n",
        "\n",
        "    return loss_eval.avg, metric.compute().item()"
      ]
    },
    {
      "cell_type": "markdown",
      "metadata": {
        "id": "o_5f69nwPtY2"
      },
      "source": [
        "# 🔴 **Training Process 〽️**"
      ]
    },
    {
      "cell_type": "markdown",
      "metadata": {
        "id": "De7VreNxQdct"
      },
      "source": [
        "## 🟠 Finding Hyper-parameters"
      ]
    },
    {
      "cell_type": "markdown",
      "metadata": {
        "id": "lpJ3wtyctQJH"
      },
      "source": [
        "### 🟡 **Step 1:** Calculate the loss for an untrained model using a few batches.\n"
      ]
    },
    {
      "cell_type": "code",
      "execution_count": 68,
      "metadata": {
        "id": "QnE4F4GkzzaR",
        "colab": {
          "base_uri": "https://localhost:8080/"
        },
        "outputId": "f86a3af6-f0a1-4ea0-e8df-0405420d62d9"
      },
      "outputs": [
        {
          "output_type": "stream",
          "name": "stdout",
          "text": [
            "tensor(10.2732, device='cuda:0')\n"
          ]
        }
      ],
      "source": [
        "model = LanguageModel(len(vocab), embedding_dim, hidden_dim, num_layers, dropout_rate).to(device)\n",
        "\n",
        "inputs, targets = next(iter(train_loader))\n",
        "inputs = inputs.to(device).view(-1, inputs.size(-1))  # Reshaping to (batch_size * seq_batches, seq_len)\n",
        "targets = targets.to(device).view(-1, targets.size(-1))  # Similarly reshaping targets\n",
        "\n",
        "with torch.no_grad():\n",
        "    outputs = model(inputs)\n",
        "    outputs = outputs.view(-1, len(vocab))  # Flatten for loss calculation\n",
        "    targets = targets.view(-1)  # Flatten for comparison\n",
        "    loss = criterion(outputs, targets)\n",
        "print(loss)"
      ]
    },
    {
      "cell_type": "markdown",
      "metadata": {
        "id": "BrHQCv7q7LF_"
      },
      "source": [
        "### 🟡 **Step 2:** Try to train and overfit the model on a small subset of the dataset."
      ]
    },
    {
      "cell_type": "code",
      "execution_count": 69,
      "metadata": {
        "id": "G0ji0MXsWaPt"
      },
      "outputs": [],
      "source": [
        "model = LanguageModel(len(vocab), embedding_dim, hidden_dim, num_layers, dropout_rate).to(device)\n",
        "optimizer = torch.optim.SGD(model.parameters(), lr= learning_rate , momentum=0.9)"
      ]
    },
    {
      "cell_type": "code",
      "execution_count": 70,
      "metadata": {
        "id": "kPRZQpPWJ2qv"
      },
      "outputs": [],
      "source": [
        "from torchmetrics import Accuracy\n",
        "\n",
        "subset_size = 1000\n",
        "indices = torch.arange(subset_size)  # Create index tensor for the subset\n",
        "small_train_subset = torch.utils.data.Subset(train_dataset, indices.tolist())\n",
        "\n",
        "# Initialize the metric for accuracy\n",
        "metric = Accuracy(task=\"multiclass\", num_classes=len(vocab)).to(device)\n",
        "\n",
        "# Create DataLoader for the small subset\n",
        "small_train_loader = DataLoader(\n",
        "    dataset=small_train_subset,\n",
        "    batch_size=32,\n",
        "    shuffle=True\n",
        ")"
      ]
    },
    {
      "cell_type": "code",
      "execution_count": 71,
      "metadata": {
        "id": "bNrg4d9hWaPt",
        "colab": {
          "base_uri": "https://localhost:8080/"
        },
        "outputId": "9e92cbfa-1eed-4197-95b4-c604948198e2"
      },
      "outputs": [
        {
          "output_type": "stream",
          "name": "stdout",
          "text": [
            "Starting epoch 1...\n"
          ]
        },
        {
          "output_type": "stream",
          "name": "stderr",
          "text": [
            "Training Epoch 1: 100%|██████████| 32/32 [00:01<00:00, 22.80batch/s, accuracy=6e-5, avg_loss=10.3]\n"
          ]
        },
        {
          "output_type": "stream",
          "name": "stdout",
          "text": [
            "Starting epoch 2...\n"
          ]
        },
        {
          "output_type": "stream",
          "name": "stderr",
          "text": [
            "Training Epoch 2: 100%|██████████| 32/32 [00:01<00:00, 24.92batch/s, accuracy=6e-5, avg_loss=10.3]\n"
          ]
        },
        {
          "output_type": "stream",
          "name": "stdout",
          "text": [
            "Starting epoch 3...\n"
          ]
        },
        {
          "output_type": "stream",
          "name": "stderr",
          "text": [
            "Training Epoch 3: 100%|██████████| 32/32 [00:01<00:00, 24.94batch/s, accuracy=0.00034, avg_loss=10.3]\n"
          ]
        },
        {
          "output_type": "stream",
          "name": "stdout",
          "text": [
            "Starting epoch 4...\n"
          ]
        },
        {
          "output_type": "stream",
          "name": "stderr",
          "text": [
            "Training Epoch 4: 100%|██████████| 32/32 [00:01<00:00, 25.30batch/s, accuracy=0.0011, avg_loss=10.3]\n"
          ]
        },
        {
          "output_type": "stream",
          "name": "stdout",
          "text": [
            "Starting epoch 5...\n"
          ]
        },
        {
          "output_type": "stream",
          "name": "stderr",
          "text": [
            "Training Epoch 5: 100%|██████████| 32/32 [00:01<00:00, 25.34batch/s, accuracy=0.00402, avg_loss=10.2]\n"
          ]
        },
        {
          "output_type": "stream",
          "name": "stdout",
          "text": [
            "Starting epoch 6...\n"
          ]
        },
        {
          "output_type": "stream",
          "name": "stderr",
          "text": [
            "Training Epoch 6: 100%|██████████| 32/32 [00:01<00:00, 25.11batch/s, accuracy=0.0209, avg_loss=10.2]\n"
          ]
        },
        {
          "output_type": "stream",
          "name": "stdout",
          "text": [
            "Starting epoch 7...\n"
          ]
        },
        {
          "output_type": "stream",
          "name": "stderr",
          "text": [
            "Training Epoch 7: 100%|██████████| 32/32 [00:01<00:00, 25.38batch/s, accuracy=0.0472, avg_loss=10.2]\n"
          ]
        },
        {
          "output_type": "stream",
          "name": "stdout",
          "text": [
            "Starting epoch 8...\n"
          ]
        },
        {
          "output_type": "stream",
          "name": "stderr",
          "text": [
            "Training Epoch 8: 100%|██████████| 32/32 [00:01<00:00, 25.22batch/s, accuracy=0.0586, avg_loss=10.2]\n"
          ]
        },
        {
          "output_type": "stream",
          "name": "stdout",
          "text": [
            "Starting epoch 9...\n"
          ]
        },
        {
          "output_type": "stream",
          "name": "stderr",
          "text": [
            "Training Epoch 9: 100%|██████████| 32/32 [00:01<00:00, 25.33batch/s, accuracy=0.0613, avg_loss=10.2]\n"
          ]
        },
        {
          "output_type": "stream",
          "name": "stdout",
          "text": [
            "Starting epoch 10...\n"
          ]
        },
        {
          "output_type": "stream",
          "name": "stderr",
          "text": [
            "Training Epoch 10: 100%|██████████| 32/32 [00:01<00:00, 25.16batch/s, accuracy=0.062, avg_loss=10.2]\n"
          ]
        }
      ],
      "source": [
        "num_epochs = 10  # Set epochs for overfitting experiment\n",
        "for epoch in range(1, num_epochs + 1):\n",
        "    print(f\"Starting epoch {epoch}...\")\n",
        "    model, _, _ = train_one_epoch(model, small_train_loader, criterion, optimizer, metric, epoch)\n"
      ]
    },
    {
      "cell_type": "markdown",
      "metadata": {
        "id": "BLT4w0ZfAhlJ"
      },
      "source": [
        "### 🟡 **Step 3:** Train the model for a limited number of epochs, experimenting with various learning rates."
      ]
    },
    {
      "cell_type": "code",
      "execution_count": 72,
      "metadata": {
        "id": "Jxz5DXoj61mg",
        "colab": {
          "base_uri": "https://localhost:8080/"
        },
        "outputId": "0d3a88ba-4bd8-4b4c-ac76-360b950b4ad5"
      },
      "outputs": [
        {
          "output_type": "stream",
          "name": "stdout",
          "text": [
            "Testing with learning rate: 0.1\n"
          ]
        },
        {
          "output_type": "stream",
          "name": "stderr",
          "text": [
            "Training Epoch 1: 100%|██████████| 1327/1327 [00:55<00:00, 24.09batch/s, accuracy=0.134, avg_loss=6.65]\n",
            "Training Epoch 2: 100%|██████████| 1327/1327 [00:56<00:00, 23.59batch/s, accuracy=0.175, avg_loss=6.13]\n",
            "Training Epoch 3: 100%|██████████| 1327/1327 [00:55<00:00, 23.71batch/s, accuracy=0.184, avg_loss=6]\n",
            "Training Epoch 4: 100%|██████████| 1327/1327 [00:56<00:00, 23.64batch/s, accuracy=0.189, avg_loss=5.92]\n",
            "Training Epoch 5: 100%|██████████| 1327/1327 [00:56<00:00, 23.60batch/s, accuracy=0.193, avg_loss=5.86]\n"
          ]
        },
        {
          "output_type": "stream",
          "name": "stdout",
          "text": [
            "\n",
            "\n",
            "Testing with learning rate: 0.01\n"
          ]
        },
        {
          "output_type": "stream",
          "name": "stderr",
          "text": [
            "Training Epoch 1: 100%|██████████| 1327/1327 [00:56<00:00, 23.58batch/s, accuracy=0.0654, avg_loss=7.74]\n",
            "Training Epoch 2: 100%|██████████| 1327/1327 [00:56<00:00, 23.57batch/s, accuracy=0.0993, avg_loss=6.84]\n",
            "Training Epoch 3: 100%|██████████| 1327/1327 [00:55<00:00, 23.82batch/s, accuracy=0.124, avg_loss=6.66]\n",
            "Training Epoch 4: 100%|██████████| 1327/1327 [00:55<00:00, 23.70batch/s, accuracy=0.143, avg_loss=6.53]\n",
            "Training Epoch 5: 100%|██████████| 1327/1327 [00:55<00:00, 23.80batch/s, accuracy=0.154, avg_loss=6.44]\n"
          ]
        },
        {
          "output_type": "stream",
          "name": "stdout",
          "text": [
            "\n",
            "\n",
            "Testing with learning rate: 0.001\n"
          ]
        },
        {
          "output_type": "stream",
          "name": "stderr",
          "text": [
            "Training Epoch 1: 100%|██████████| 1327/1327 [00:55<00:00, 23.88batch/s, accuracy=0.056, avg_loss=10.1]\n",
            "Training Epoch 2: 100%|██████████| 1327/1327 [00:55<00:00, 23.83batch/s, accuracy=0.0616, avg_loss=8.47]\n",
            "Training Epoch 3: 100%|██████████| 1327/1327 [00:55<00:00, 24.02batch/s, accuracy=0.0616, avg_loss=7.63]\n",
            "Training Epoch 4: 100%|██████████| 1327/1327 [00:55<00:00, 24.03batch/s, accuracy=0.0616, avg_loss=7.45]\n",
            "Training Epoch 5: 100%|██████████| 1327/1327 [00:55<00:00, 23.96batch/s, accuracy=0.0616, avg_loss=7.33]"
          ]
        },
        {
          "output_type": "stream",
          "name": "stdout",
          "text": [
            "\n",
            "\n"
          ]
        },
        {
          "output_type": "stream",
          "name": "stderr",
          "text": [
            "\n"
          ]
        }
      ],
      "source": [
        "# Experiment with different learning rates\n",
        "learning_rates = [0.1, 0.01, 0.001]  # Specify learning rates to test\n",
        "num_epochs = 5  # Limit the number of epochs for testing\n",
        "\n",
        "for lr in learning_rates:\n",
        "    print(f\"Testing with learning rate: {lr}\")\n",
        "\n",
        "    # Reinitialize model and optimizer for each learning rate\n",
        "    model = LanguageModel(len(vocab), embedding_dim, hidden_dim, num_layers, dropout_rate).to(device)\n",
        "    optimizer = optim.SGD(model.parameters(), lr=lr, weight_decay=1e-4, momentum=0.9)\n",
        "\n",
        "    # Train for a few epochs\n",
        "    for epoch in range(1, num_epochs + 1):\n",
        "        model, _, _ = train_one_epoch(model, train_loader, criterion, optimizer, metric, epoch)\n",
        "\n",
        "    print(\"\\n\")\n"
      ]
    },
    {
      "cell_type": "markdown",
      "metadata": {
        "id": "uC2GhaXfA8vC"
      },
      "source": [
        "### 🟡 Step 4: Create a small grid using the weight decay and the best learning rate.\n",
        "\n",
        "\n",
        "\n"
      ]
    },
    {
      "cell_type": "code",
      "execution_count": 73,
      "metadata": {
        "id": "a7UeNW3WWaPu",
        "colab": {
          "base_uri": "https://localhost:8080/"
        },
        "outputId": "91c7133c-09e9-4489-c6cf-f6725b171ae7"
      },
      "outputs": [
        {
          "output_type": "stream",
          "name": "stdout",
          "text": [
            "Testing with LR=0.1, WD=0.1\n"
          ]
        },
        {
          "output_type": "stream",
          "name": "stderr",
          "text": [
            "Training Epoch 1: 100%|██████████| 1327/1327 [00:54<00:00, 24.33batch/s, accuracy=0.0613, avg_loss=10.1]\n",
            "Training Epoch 2: 100%|██████████| 1327/1327 [00:54<00:00, 24.48batch/s, accuracy=0.0616, avg_loss=10.1]\n",
            "Training Epoch 3: 100%|██████████| 1327/1327 [00:53<00:00, 24.69batch/s, accuracy=0.0616, avg_loss=10.1]\n"
          ]
        },
        {
          "output_type": "stream",
          "name": "stdout",
          "text": [
            "\n",
            "\n",
            "Testing with LR=0.1, WD=0.01\n"
          ]
        },
        {
          "output_type": "stream",
          "name": "stderr",
          "text": [
            "Training Epoch 1: 100%|██████████| 1327/1327 [00:55<00:00, 23.84batch/s, accuracy=0.0557, avg_loss=7.31]\n",
            "Training Epoch 2: 100%|██████████| 1327/1327 [00:55<00:00, 24.02batch/s, accuracy=0.0564, avg_loss=7.18]\n",
            "Training Epoch 3: 100%|██████████| 1327/1327 [00:55<00:00, 24.05batch/s, accuracy=0.0555, avg_loss=7.19]\n"
          ]
        },
        {
          "output_type": "stream",
          "name": "stdout",
          "text": [
            "\n",
            "\n",
            "Testing with LR=0.1, WD=0.001\n"
          ]
        },
        {
          "output_type": "stream",
          "name": "stderr",
          "text": [
            "Training Epoch 1: 100%|██████████| 1327/1327 [00:55<00:00, 23.94batch/s, accuracy=0.115, avg_loss=6.8]\n",
            "Training Epoch 2: 100%|██████████| 1327/1327 [00:55<00:00, 23.94batch/s, accuracy=0.155, avg_loss=6.37]\n",
            "Training Epoch 3: 100%|██████████| 1327/1327 [00:55<00:00, 24.02batch/s, accuracy=0.161, avg_loss=6.3]"
          ]
        },
        {
          "output_type": "stream",
          "name": "stdout",
          "text": [
            "\n",
            "\n"
          ]
        },
        {
          "output_type": "stream",
          "name": "stderr",
          "text": [
            "\n"
          ]
        }
      ],
      "source": [
        "num_epochs = 3  # Number of epochs for grid search\n",
        "learning_rates = [0.1]  # Learning rates to test\n",
        "weight_decays = [0.1, 0.01, 0.001]  # Weight decays to test\n",
        "\n",
        "for lr in learning_rates:\n",
        "    for wd in weight_decays:\n",
        "        print(f\"Testing with LR={lr}, WD={wd}\")\n",
        "\n",
        "        # Reinitialize model and optimizer for each combination\n",
        "        model = LanguageModel(len(vocab), embedding_dim, hidden_dim, num_layers, dropout_rate).to(device)\n",
        "        optimizer = optim.SGD(model.parameters(), lr=lr, weight_decay=wd, momentum=0.9)\n",
        "\n",
        "        # Train for the defined number of epochs\n",
        "        for epoch in range(1, num_epochs + 1):\n",
        "            model, loss, _ = train_one_epoch(model, train_loader, criterion, optimizer, metric, epoch)\n",
        "\n",
        "        print(\"\\n\")\n"
      ]
    },
    {
      "cell_type": "code",
      "source": [
        "print(f\"Testing with LR={lr}, WD={wd}\")\n",
        "\n",
        "# Reinitialize model and optimizer for each combination\n",
        "model = LanguageModel(len(vocab), embedding_dim, hidden_dim, num_layers, dropout_rate).to(device)\n",
        "optimizer = optim.SGD(model.parameters(), lr=0.1, weight_decay=0.00001, momentum=0.9)\n",
        "\n",
        "# Train for the defined number of epochs\n",
        "for epoch in range(1, num_epochs + 1):\n",
        "    model, loss, _ = train_one_epoch(model, train_loader, criterion, optimizer, metric, epoch)\n"
      ],
      "metadata": {
        "colab": {
          "base_uri": "https://localhost:8080/"
        },
        "id": "J2ssHeP7jLeQ",
        "outputId": "1b4aef70-c9dd-4035-d58b-431a72bc83c4"
      },
      "execution_count": 74,
      "outputs": [
        {
          "output_type": "stream",
          "name": "stdout",
          "text": [
            "Testing with LR=0.1, WD=0.001\n"
          ]
        },
        {
          "output_type": "stream",
          "name": "stderr",
          "text": [
            "Training Epoch 1: 100%|██████████| 1327/1327 [00:55<00:00, 23.91batch/s, accuracy=0.135, avg_loss=6.65]\n",
            "Training Epoch 2: 100%|██████████| 1327/1327 [00:55<00:00, 23.91batch/s, accuracy=0.177, avg_loss=6.11]\n",
            "Training Epoch 3: 100%|██████████| 1327/1327 [00:55<00:00, 23.83batch/s, accuracy=0.187, avg_loss=5.96]\n"
          ]
        }
      ]
    },
    {
      "cell_type": "markdown",
      "metadata": {
        "id": "Mjd9Z3N1ef3I"
      },
      "source": [
        "### 🟡 Step 5: Train model for longer epochs using the best model from step 4.\n",
        "\n",
        "\n",
        "\n"
      ]
    },
    {
      "cell_type": "code",
      "execution_count": 75,
      "metadata": {
        "id": "IWgkMgC6JWpU"
      },
      "outputs": [],
      "source": [
        "model = LanguageModel(len(vocab), embedding_dim, hidden_dim, num_layers, dropout_rate).to(device)"
      ]
    },
    {
      "cell_type": "code",
      "execution_count": 76,
      "metadata": {
        "id": "YVwLp-02JWpV"
      },
      "outputs": [],
      "source": [
        "lr = 0.1\n",
        "wd = 0.00001\n",
        "optimizer = optim.SGD(model.parameters(), lr=lr, weight_decay=wd, momentum=0.9, nesterov=True)"
      ]
    },
    {
      "cell_type": "code",
      "execution_count": 77,
      "metadata": {
        "id": "zqxSVVB7JWpW"
      },
      "outputs": [],
      "source": [
        "loss_train_hist = []\n",
        "loss_valid_hist = []\n",
        "\n",
        "metric_train_hist = []\n",
        "metric_valid_hist = []\n",
        "\n",
        "best_loss_valid = torch.inf\n",
        "epoch_counter = 0"
      ]
    },
    {
      "cell_type": "code",
      "execution_count": 78,
      "metadata": {
        "id": "eVqS9SEPJWpW",
        "colab": {
          "base_uri": "https://localhost:8080/"
        },
        "outputId": "283f26a9-22f3-49f4-a26d-cfa119f1488e"
      },
      "outputs": [
        {
          "output_type": "stream",
          "name": "stderr",
          "text": [
            "100%|██████████| 1327/1327 [00:54<00:00, 24.55batch/s, accuracy=0.135, avg_loss=6.64]\n"
          ]
        },
        {
          "output_type": "stream",
          "name": "stdout",
          "text": [
            "Model Saved!\n",
            "Valid: Loss = 6.015, Metric = 0.1719\n",
            "\n"
          ]
        },
        {
          "output_type": "stream",
          "name": "stderr",
          "text": [
            "Training Epoch 1: 100%|██████████| 1327/1327 [00:57<00:00, 23.24batch/s, accuracy=0.176, avg_loss=6.14]\n"
          ]
        },
        {
          "output_type": "stream",
          "name": "stdout",
          "text": [
            "Model Saved!\n",
            "Valid: Loss = 5.838, Metric = 0.1915\n",
            "\n"
          ]
        },
        {
          "output_type": "stream",
          "name": "stderr",
          "text": [
            "Training Epoch 2: 100%|██████████| 1327/1327 [00:56<00:00, 23.34batch/s, accuracy=0.186, avg_loss=6]\n"
          ]
        },
        {
          "output_type": "stream",
          "name": "stdout",
          "text": [
            "Model Saved!\n",
            "Valid: Loss = 5.736, Metric = 0.1995\n",
            "\n"
          ]
        },
        {
          "output_type": "stream",
          "name": "stderr",
          "text": [
            "Training Epoch 3: 100%|██████████| 1327/1327 [00:56<00:00, 23.44batch/s, accuracy=0.192, avg_loss=5.9]\n"
          ]
        },
        {
          "output_type": "stream",
          "name": "stdout",
          "text": [
            "Model Saved!\n",
            "Valid: Loss = 5.644, Metric = 0.2078\n",
            "\n"
          ]
        },
        {
          "output_type": "stream",
          "name": "stderr",
          "text": [
            "Training Epoch 4: 100%|██████████| 1327/1327 [00:56<00:00, 23.30batch/s, accuracy=0.198, avg_loss=5.82]\n"
          ]
        },
        {
          "output_type": "stream",
          "name": "stdout",
          "text": [
            "Model Saved!\n",
            "Valid: Loss = 5.584, Metric = 0.2117\n",
            "\n"
          ]
        }
      ],
      "source": [
        "num_epochs = 5\n",
        "\n",
        "train_set = train_loader\n",
        "valid_set = valid_dataset\n",
        "loss_fn = criterion\n",
        "\n",
        "for epoch in range(num_epochs):\n",
        "  # Train\n",
        "  model, loss_train, metric_train = train_one_epoch(model,\n",
        "                                                 train_set,\n",
        "                                                 loss_fn,\n",
        "                                                 optimizer,\n",
        "                                                 metric,\n",
        "                                                 epoch)\n",
        "  # Validation\n",
        "  loss_valid, metric_valid = evaluate(model,\n",
        "                                     valid_set,\n",
        "                                     loss_fn,\n",
        "                                     metric)\n",
        "\n",
        "  loss_train_hist.append(loss_train)\n",
        "  loss_valid_hist.append(loss_valid)\n",
        "\n",
        "  metric_train_hist.append(metric_train)\n",
        "  metric_valid_hist.append(metric_valid)\n",
        "\n",
        "  if loss_valid < best_loss_valid:\n",
        "    torch.save(model, f'model.pt')\n",
        "    best_loss_valid = loss_valid\n",
        "    print('Model Saved!')\n",
        "\n",
        "  print(f'Valid: Loss = {loss_valid:.4}, Metric = {metric_valid:.4}')\n",
        "  print()\n",
        "\n",
        "  epoch_counter += 1"
      ]
    },
    {
      "cell_type": "markdown",
      "metadata": {
        "id": "rjGQ-M02cusP"
      },
      "source": [
        "## 🟠 Main Loop"
      ]
    },
    {
      "cell_type": "markdown",
      "metadata": {
        "id": "4AdYaMU4x34g"
      },
      "source": [
        "🔰 Define model."
      ]
    },
    {
      "cell_type": "code",
      "execution_count": 79,
      "metadata": {
        "id": "JCtZXDybxexf"
      },
      "outputs": [],
      "source": [
        "model = LanguageModel(len(vocab), embedding_dim, hidden_dim, num_layers, dropout_rate).to(device)"
      ]
    },
    {
      "cell_type": "markdown",
      "metadata": {
        "id": "AUKZRiQPxqrB"
      },
      "source": [
        "🔰 Define optimizer and Set learning rate and weight decay."
      ]
    },
    {
      "cell_type": "code",
      "execution_count": 80,
      "metadata": {
        "id": "bowjVB5yIXUP"
      },
      "outputs": [],
      "source": [
        "lr = 0.1\n",
        "wd = 0.00001\n",
        "optimizer = optim.SGD(model.parameters(), lr=lr, weight_decay=wd, momentum=0.9, nesterov=True)"
      ]
    },
    {
      "cell_type": "markdown",
      "metadata": {
        "id": "AUyFFIzlyaiB"
      },
      "source": [
        "🔰 Write code to train the model for `num_epochs` epoches."
      ]
    },
    {
      "cell_type": "code",
      "execution_count": 81,
      "metadata": {
        "id": "CAXagB4yvtZd"
      },
      "outputs": [],
      "source": [
        "loss_train_hist = []\n",
        "loss_valid_hist = []\n",
        "\n",
        "metric_train_hist = []\n",
        "metric_valid_hist = []\n",
        "\n",
        "best_loss_valid = torch.inf\n",
        "epoch_counter = 0"
      ]
    },
    {
      "cell_type": "code",
      "execution_count": 82,
      "metadata": {
        "id": "PovABWnU3ld0",
        "colab": {
          "base_uri": "https://localhost:8080/"
        },
        "outputId": "b96e816e-1d0c-47cc-eae3-1225f64b74e2"
      },
      "outputs": [
        {
          "output_type": "stream",
          "name": "stderr",
          "text": [
            "100%|██████████| 1327/1327 [00:54<00:00, 24.56batch/s, accuracy=0.137, avg_loss=6.63]\n"
          ]
        },
        {
          "output_type": "stream",
          "name": "stdout",
          "text": [
            "Model Saved!\n",
            "Valid: Loss = 5.999, Metric = 0.1781\n",
            "\n"
          ]
        },
        {
          "output_type": "stream",
          "name": "stderr",
          "text": [
            "Training Epoch 1: 100%|██████████| 1327/1327 [00:56<00:00, 23.41batch/s, accuracy=0.178, avg_loss=6.11]\n"
          ]
        },
        {
          "output_type": "stream",
          "name": "stdout",
          "text": [
            "Model Saved!\n",
            "Valid: Loss = 5.821, Metric = 0.1929\n",
            "\n"
          ]
        },
        {
          "output_type": "stream",
          "name": "stderr",
          "text": [
            "Training Epoch 2: 100%|██████████| 1327/1327 [00:56<00:00, 23.52batch/s, accuracy=0.189, avg_loss=5.97]\n"
          ]
        },
        {
          "output_type": "stream",
          "name": "stdout",
          "text": [
            "Model Saved!\n",
            "Valid: Loss = 5.692, Metric = 0.2055\n",
            "\n"
          ]
        },
        {
          "output_type": "stream",
          "name": "stderr",
          "text": [
            "Training Epoch 3: 100%|██████████| 1327/1327 [00:56<00:00, 23.36batch/s, accuracy=0.196, avg_loss=5.87]\n"
          ]
        },
        {
          "output_type": "stream",
          "name": "stdout",
          "text": [
            "Model Saved!\n",
            "Valid: Loss = 5.625, Metric = 0.2095\n",
            "\n"
          ]
        },
        {
          "output_type": "stream",
          "name": "stderr",
          "text": [
            "Training Epoch 4: 100%|██████████| 1327/1327 [00:56<00:00, 23.40batch/s, accuracy=0.201, avg_loss=5.79]\n"
          ]
        },
        {
          "output_type": "stream",
          "name": "stdout",
          "text": [
            "Model Saved!\n",
            "Valid: Loss = 5.555, Metric = 0.2148\n",
            "\n"
          ]
        },
        {
          "output_type": "stream",
          "name": "stderr",
          "text": [
            "Training Epoch 5: 100%|██████████| 1327/1327 [00:56<00:00, 23.29batch/s, accuracy=0.205, avg_loss=5.72]\n"
          ]
        },
        {
          "output_type": "stream",
          "name": "stdout",
          "text": [
            "Model Saved!\n",
            "Valid: Loss = 5.497, Metric = 0.2169\n",
            "\n"
          ]
        },
        {
          "output_type": "stream",
          "name": "stderr",
          "text": [
            "Training Epoch 6: 100%|██████████| 1327/1327 [00:56<00:00, 23.42batch/s, accuracy=0.209, avg_loss=5.67]\n"
          ]
        },
        {
          "output_type": "stream",
          "name": "stdout",
          "text": [
            "Model Saved!\n",
            "Valid: Loss = 5.454, Metric = 0.2205\n",
            "\n"
          ]
        },
        {
          "output_type": "stream",
          "name": "stderr",
          "text": [
            "Training Epoch 7: 100%|██████████| 1327/1327 [00:57<00:00, 23.23batch/s, accuracy=0.211, avg_loss=5.62]\n"
          ]
        },
        {
          "output_type": "stream",
          "name": "stdout",
          "text": [
            "Model Saved!\n",
            "Valid: Loss = 5.416, Metric = 0.2236\n",
            "\n"
          ]
        },
        {
          "output_type": "stream",
          "name": "stderr",
          "text": [
            "Training Epoch 8: 100%|██████████| 1327/1327 [00:57<00:00, 23.04batch/s, accuracy=0.213, avg_loss=5.57]\n"
          ]
        },
        {
          "output_type": "stream",
          "name": "stdout",
          "text": [
            "Model Saved!\n",
            "Valid: Loss = 5.386, Metric = 0.2247\n",
            "\n"
          ]
        },
        {
          "output_type": "stream",
          "name": "stderr",
          "text": [
            "Training Epoch 9: 100%|██████████| 1327/1327 [00:57<00:00, 23.22batch/s, accuracy=0.215, avg_loss=5.53]\n"
          ]
        },
        {
          "output_type": "stream",
          "name": "stdout",
          "text": [
            "Model Saved!\n",
            "Valid: Loss = 5.354, Metric = 0.2263\n",
            "\n"
          ]
        },
        {
          "output_type": "stream",
          "name": "stderr",
          "text": [
            "Training Epoch 10: 100%|██████████| 1327/1327 [00:56<00:00, 23.31batch/s, accuracy=0.217, avg_loss=5.5]\n"
          ]
        },
        {
          "output_type": "stream",
          "name": "stdout",
          "text": [
            "Model Saved!\n",
            "Valid: Loss = 5.328, Metric = 0.2281\n",
            "\n"
          ]
        },
        {
          "output_type": "stream",
          "name": "stderr",
          "text": [
            "Training Epoch 11: 100%|██████████| 1327/1327 [00:56<00:00, 23.37batch/s, accuracy=0.219, avg_loss=5.46]\n"
          ]
        },
        {
          "output_type": "stream",
          "name": "stdout",
          "text": [
            "Model Saved!\n",
            "Valid: Loss = 5.311, Metric = 0.2285\n",
            "\n"
          ]
        },
        {
          "output_type": "stream",
          "name": "stderr",
          "text": [
            "Training Epoch 12: 100%|██████████| 1327/1327 [00:56<00:00, 23.31batch/s, accuracy=0.22, avg_loss=5.43]\n"
          ]
        },
        {
          "output_type": "stream",
          "name": "stdout",
          "text": [
            "Model Saved!\n",
            "Valid: Loss = 5.278, Metric = 0.2307\n",
            "\n"
          ]
        },
        {
          "output_type": "stream",
          "name": "stderr",
          "text": [
            "Training Epoch 13: 100%|██████████| 1327/1327 [00:56<00:00, 23.47batch/s, accuracy=0.221, avg_loss=5.4]\n"
          ]
        },
        {
          "output_type": "stream",
          "name": "stdout",
          "text": [
            "Model Saved!\n",
            "Valid: Loss = 5.271, Metric = 0.2313\n",
            "\n"
          ]
        },
        {
          "output_type": "stream",
          "name": "stderr",
          "text": [
            "Training Epoch 14: 100%|██████████| 1327/1327 [00:57<00:00, 23.21batch/s, accuracy=0.223, avg_loss=5.38]\n"
          ]
        },
        {
          "output_type": "stream",
          "name": "stdout",
          "text": [
            "Model Saved!\n",
            "Valid: Loss = 5.249, Metric = 0.2315\n",
            "\n"
          ]
        },
        {
          "output_type": "stream",
          "name": "stderr",
          "text": [
            "Training Epoch 15: 100%|██████████| 1327/1327 [00:56<00:00, 23.41batch/s, accuracy=0.224, avg_loss=5.35]\n"
          ]
        },
        {
          "output_type": "stream",
          "name": "stdout",
          "text": [
            "Model Saved!\n",
            "Valid: Loss = 5.225, Metric = 0.2335\n",
            "\n"
          ]
        },
        {
          "output_type": "stream",
          "name": "stderr",
          "text": [
            "Training Epoch 16: 100%|██████████| 1327/1327 [00:56<00:00, 23.34batch/s, accuracy=0.225, avg_loss=5.33]\n"
          ]
        },
        {
          "output_type": "stream",
          "name": "stdout",
          "text": [
            "Model Saved!\n",
            "Valid: Loss = 5.213, Metric = 0.2343\n",
            "\n"
          ]
        },
        {
          "output_type": "stream",
          "name": "stderr",
          "text": [
            "Training Epoch 17: 100%|██████████| 1327/1327 [00:57<00:00, 23.25batch/s, accuracy=0.224, avg_loss=5.33]\n"
          ]
        },
        {
          "output_type": "stream",
          "name": "stdout",
          "text": [
            "Valid: Loss = 5.216, Metric = 0.2327\n",
            "\n"
          ]
        },
        {
          "output_type": "stream",
          "name": "stderr",
          "text": [
            "Training Epoch 18: 100%|██████████| 1327/1327 [00:57<00:00, 23.21batch/s, accuracy=0.225, avg_loss=5.31]\n"
          ]
        },
        {
          "output_type": "stream",
          "name": "stdout",
          "text": [
            "Model Saved!\n",
            "Valid: Loss = 5.201, Metric = 0.2349\n",
            "\n"
          ]
        },
        {
          "output_type": "stream",
          "name": "stderr",
          "text": [
            "Training Epoch 19: 100%|██████████| 1327/1327 [00:56<00:00, 23.36batch/s, accuracy=0.227, avg_loss=5.28]\n"
          ]
        },
        {
          "output_type": "stream",
          "name": "stdout",
          "text": [
            "Model Saved!\n",
            "Valid: Loss = 5.187, Metric = 0.2341\n",
            "\n"
          ]
        }
      ],
      "source": [
        "num_epochs = 20\n",
        "\n",
        "for epoch in range(num_epochs):\n",
        "  # Train\n",
        "  model, loss_train, metric_train = train_one_epoch(model,\n",
        "                                                 train_set,\n",
        "                                                 loss_fn,\n",
        "                                                 optimizer,\n",
        "                                                 metric,\n",
        "                                                 epoch)\n",
        "  # Validation\n",
        "  loss_valid, metric_valid = evaluate(model,\n",
        "                                     valid_set,\n",
        "                                     loss_fn,\n",
        "                                     metric)\n",
        "\n",
        "  loss_train_hist.append(loss_train)\n",
        "  loss_valid_hist.append(loss_valid)\n",
        "\n",
        "  metric_train_hist.append(metric_train)\n",
        "  metric_valid_hist.append(metric_valid)\n",
        "\n",
        "  if loss_valid < best_loss_valid:\n",
        "    torch.save(model, f'model.pt')\n",
        "    best_loss_valid = loss_valid\n",
        "    print('Model Saved!')\n",
        "\n",
        "  print(f'Valid: Loss = {loss_valid:.4}, Metric = {metric_valid:.4}')\n",
        "  print()\n",
        "\n",
        "  epoch_counter += 1"
      ]
    },
    {
      "cell_type": "markdown",
      "metadata": {
        "id": "oK20iNRI3Xxb"
      },
      "source": [
        "## 🟠 Plot"
      ]
    },
    {
      "cell_type": "markdown",
      "metadata": {
        "id": "IKlLvCwuzEAA"
      },
      "source": [
        "🔰 Plot learning curves"
      ]
    },
    {
      "cell_type": "code",
      "execution_count": 83,
      "metadata": {
        "id": "KYFzTsdIOkVp",
        "colab": {
          "base_uri": "https://localhost:8080/",
          "height": 560
        },
        "outputId": "eafab679-a04d-40ca-f2c2-1ea3a760fbca"
      },
      "outputs": [
        {
          "output_type": "execute_result",
          "data": {
            "text/plain": [
              "<matplotlib.legend.Legend at 0x7c2a8c1e68f0>"
            ]
          },
          "metadata": {},
          "execution_count": 83
        },
        {
          "output_type": "display_data",
          "data": {
            "text/plain": [
              "<Figure size 800x600 with 1 Axes>"
            ],
            "image/png": "[encoded data removed]"
          },
          "metadata": {}
        }
      ],
      "source": [
        "plt.figure(figsize=(8, 6))\n",
        "\n",
        "plt.plot(range(epoch_counter), loss_train_hist, 'r-', label='Train')\n",
        "plt.plot(range(epoch_counter), loss_valid_hist, 'b-', label='Validation')\n",
        "\n",
        "plt.xlabel('Epoch')\n",
        "plt.ylabel('loss')\n",
        "plt.grid(True)\n",
        "plt.legend()"
      ]
    },
    {
      "cell_type": "markdown",
      "metadata": {
        "id": "KZ9UIdmkfxlA"
      },
      "source": [
        "# 🔴 **Test**"
      ]
    },
    {
      "cell_type": "markdown",
      "metadata": {
        "id": "SO8iPWH1zVYn"
      },
      "source": [
        "🔰 Test your model using data from the test set"
      ]
    },
    {
      "cell_type": "code",
      "execution_count": 84,
      "metadata": {
        "id": "35sn67IhKcm_",
        "colab": {
          "base_uri": "https://localhost:8080/"
        },
        "outputId": "2da2108f-2284-4b8b-8dc4-5574fbe313b1"
      },
      "outputs": [
        {
          "output_type": "stream",
          "name": "stdout",
          "text": [
            "Test: Loss = 5.113, Metric = 0.2377\n"
          ]
        }
      ],
      "source": [
        "test_loss, test_metric = evaluate(model, test_loader, loss_fn, metric)\n",
        "print(f\"Test: Loss = {test_loss:.4}, Metric = {test_metric:.4}\")"
      ]
    },
    {
      "cell_type": "markdown",
      "metadata": {
        "id": "FzcQQwFuar_7"
      },
      "source": [
        "# 🔴 **Generate**"
      ]
    },
    {
      "cell_type": "markdown",
      "metadata": {
        "id": "jh2_9jUp0GF4"
      },
      "source": [
        "🔰 Your mission is to write a `generate` function and use a desired sentence to evaluate the model"
      ]
    },
    {
      "cell_type": "code",
      "execution_count": 85,
      "metadata": {
        "id": "pskvb--R-wJ0",
        "colab": {
          "base_uri": "https://localhost:8080/"
        },
        "outputId": "d0823a6b-1ca6-4603-8c21-771d8d6912a2"
      },
      "outputs": [
        {
          "output_type": "execute_result",
          "data": {
            "text/plain": [
              "LanguageModel(\n",
              "  (embedding): Embedding(28785, 128)\n",
              "  (lstm): LSTM(128, 256, num_layers=2, batch_first=True, dropout=0.5)\n",
              "  (fc): Linear(in_features=256, out_features=28785, bias=True)\n",
              ")"
            ]
          },
          "metadata": {},
          "execution_count": 85
        }
      ],
      "source": [
        "model_path = 'model.pt'\n",
        "model = torch.load(model_path)\n",
        "model.eval()"
      ]
    },
    {
      "cell_type": "code",
      "execution_count": 93,
      "metadata": {
        "id": "f5SvSDLal8YB"
      },
      "outputs": [],
      "source": [
        "def generate(prompt, max_seq_len, temperature, model, tokenizer, vocab, seed=None):\n",
        "    if seed is not None:\n",
        "        torch.manual_seed(seed)\n",
        "\n",
        "    # Tokenize and map prompt to vocab indices\n",
        "    input_tokens = [vocab[\"<bos>\"]] + [vocab[token] for token in tokenizer(prompt)]\n",
        "    input_tensor = torch.tensor(input_tokens).unsqueeze(0).to(device)  # Shape: [1, seq_len]\n",
        "\n",
        "    # Model in evaluation mode\n",
        "    model.eval()\n",
        "\n",
        "    generated_tokens = input_tokens.copy()\n",
        "\n",
        "    with torch.no_grad():\n",
        "        for _ in range(max_seq_len):\n",
        "            # Get model predictions\n",
        "            output = model(input_tensor)  # Shape: [1, seq_len, vocab_size]\n",
        "            logits = output[:, -1, :]  # Use the last token's logits\n",
        "\n",
        "            # Apply temperature and softmax\n",
        "            logits = logits / temperature\n",
        "            probs = torch.softmax(logits, dim=-1)\n",
        "\n",
        "            # Sample the next token\n",
        "            next_token = torch.multinomial(probs, num_samples=1).item()\n",
        "\n",
        "            # Stop generation if <eos> is generated\n",
        "            if next_token == vocab[\"<eos>\"]:\n",
        "                break\n",
        "\n",
        "            # Append to the generated sequence\n",
        "            generated_tokens.append(next_token)\n",
        "\n",
        "            # Update input tensor with the new token\n",
        "            input_tensor = torch.tensor([generated_tokens[-len(input_tokens):]]).to(device)\n",
        "\n",
        "    # Decode the generated tokens back to text\n",
        "    generated_text = \" \".join(vocab.lookup_tokens(generated_tokens))\n",
        "    return generated_text\n"
      ]
    },
    {
      "cell_type": "code",
      "execution_count": 92,
      "metadata": {
        "id": "pVedneOVD6ul",
        "colab": {
          "base_uri": "https://localhost:8080/"
        },
        "outputId": "52a8aea4-3183-43d0-e0d0-196b2e00babe"
      },
      "outputs": [
        {
          "output_type": "stream",
          "name": "stdout",
          "text": [
            "Generated Text:\n",
            "we are going to be forced to the end of the season . as a result , another set the surviving strong sequence , and the band did not take place for fantasy @-@ man . an version of the first would make a highly @-@ year\n"
          ]
        }
      ],
      "source": [
        "# Generate text\n",
        "prompt = \"We are going to\"\n",
        "max_seq_len = 50\n",
        "temperature = 0.8\n",
        "\n",
        "generated_text = generate(prompt, max_seq_len, temperature, model, tokenizer, vocab)\n",
        "print(\"Generated Text:\")\n",
        "print(generated_text)\n"
      ]
    }
  ],
  "metadata": {
    "colab": {
      "collapsed_sections": [
        "A3rnR739GbYb",
        "a4HyLPqcsF43",
        "cfBasjQCE_aI",
        "idRexFij4wgN",
        "PgLgP04P4-aX"
      ],
      "provenance": [],
      "gpuType": "T4"
    },
    "kernelspec": {
      "display_name": "Python 3",
      "name": "python3"
    },
    "language_info": {
      "codemirror_mode": {
        "name": "ipython",
        "version": 3
      },
      "file_extension": ".py",
      "mimetype": "text/x-python",
      "name": "python",
      "nbconvert_exporter": "python",
      "pygments_lexer": "ipython3",
      "version": "3.12.4"
    },
    "accelerator": "GPU"
  },
  "nbformat": 4,
  "nbformat_minor": 0
}